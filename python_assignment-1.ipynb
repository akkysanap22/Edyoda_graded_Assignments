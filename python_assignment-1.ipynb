{
 "cells": [
  {
   "cell_type": "code",
   "execution_count": 4,
   "metadata": {},
   "outputs": [
    {
     "name": "stdout",
     "output_type": "stream",
     "text": [
      "zek"
     ]
    }
   ],
   "source": [
    "\"\"\"1.In the pre-smartphone era,each number key is assigned a subset of the alphabet {a,b,…,z}.\n",
    "\n",
    "- 2 is assigned {a,b,c}, \n",
    "- 3 is assigned {d,e,f} \n",
    "- 4 is assigned {g,h,i} \n",
    "- 5 is assigned {j,k,l}\n",
    "- 6 is assigned {m,n,o} \n",
    "- 7 is assigned {p,q,r,s}\n",
    "- 8 is assigned {t,u,v} \n",
    "- 9 is assigned {w,x,y,z}\n",
    "\n",
    "Write a function numbers_to_chars() to find the characters generated using key 9999335533. Output should be \"zeke\"\n",
    "\n",
    "Function Name : numbers_to_chars() Input : Integer number sequence Output : Str\"\"\"\n",
    "\n",
    "def numbers_to_chars(test_str):\n",
    "    ref={'2':['a','b','c'],'3':['d','e','f'],'4':['g','h','i'],'5':['j','k','l'],\n",
    "         '6':['m','n','o'],'7':['p','q','r','s'],'8':['t','u','v'],'9':['w','x','y','z']}\n",
    "    \n",
    "    all_freq = {}\n",
    "\n",
    "    for i in test_str:\n",
    "        if i in all_freq:\n",
    "           all_freq[i] += 1\n",
    "        else:\n",
    "            all_freq[i] = 1\n",
    "\n",
    "\n",
    "    for i in all_freq:\n",
    "        if i in ref:\n",
    "            print(ref[i][all_freq[i]-1],end='')\n",
    "\n",
    "        \n",
    "test_str = \"99993355\"\n",
    "numbers_to_chars(test_str)\n",
    "\n",
    "'''in this problem i have tried this with dictionary so, if the value is repeat for eg. \"99335533\" the 33 repeat twice \n",
    "hence the duplication of key is occur and it not give output similarly for value like \"999999\" it does not give output.\n",
    "I have tried it multiple ways but not able to get exact output. waiting for your guidence for this problem'''"
   ]
  },
  {
   "cell_type": "code",
   "execution_count": 4,
   "metadata": {},
   "outputs": [
    {
     "name": "stdout",
     "output_type": "stream",
     "text": [
      "Bombay\n",
      "Bombay -> Delhi,Delhi -> Goa,Goa -> Chennai,Chennai -> Banglore,"
     ]
    }
   ],
   "source": [
    "\n",
    "\"\"\"2.Given a dict of tickets(\"to\":\"from\")\n",
    "\n",
    "{\"Chennai\":\"Banglore\",\"Bombay\":\"Delhi\",\"Goa\":\"Chennai\",\"Delhi\":\"Goa\"} find out the sequence of travel.\n",
    "\n",
    "Expected Output : Bombay->Delhi, Delhi->Goa, Goa->Chennai, Chennai->Banglore\n",
    "\n",
    "Function Name : travel_sequence Input : dict Output : dict\"\"\"\n",
    "\n",
    "st={\"Chennai\":\"Banglore\",\"Bombay\":\"Delhi\",\"Goa\":\"Chennai\",\"Delhi\":\"Goa\"}\n",
    "\n",
    "def travel_sequence(start):\n",
    "    while start in st:\n",
    "          if start in st:\n",
    "                print(start,\"->\",st[start],end=',')\n",
    "                start=st[start]\n",
    "\n",
    "                \n",
    "                \n",
    "\n",
    "travel_sequence(input())"
   ]
  },
  {
   "cell_type": "code",
   "execution_count": 1,
   "metadata": {},
   "outputs": [
    {
     "data": {
      "text/plain": [
       "{'Concord': 'Massachusetts',\n",
       " 'Hanover': 'New Hampshire',\n",
       " 'Boston': 'Massachusetts',\n",
       " 'Springfield': 'Illinois',\n",
       " 'Chicago': 'Illinois',\n",
       " 'Peoria': 'Illinois'}"
      ]
     },
     "execution_count": 1,
     "metadata": {},
     "output_type": "execute_result"
    }
   ],
   "source": [
    "\"\"\"3.Given a dictionary that associates the names of states with a list of the names of cities that appear in it,write a program that creates a new dictionary that associates the name of a city with the list of states that it appears in.\n",
    "\n",
    "As an example, if the first dictionary is\n",
    "\n",
    "Input : states = {'New Hampshire': ['Concord', 'Hanover'],\n",
    "\n",
    "'Massachusetts': ['Boston', 'Concord', 'Springfield'],\n",
    "\n",
    "'Illinois': ['Chicago', 'Springfield', 'Peoria'] }\n",
    "\n",
    "Output:\n",
    "\n",
    "cities = {'Hanover': ['New Hampshire'],\n",
    "\n",
    "'Chicago': ['Illinois'],'Boston': ['Massachusetts'],\n",
    "\n",
    "'Peoria': ['Illinois'],'Concord': ['New Hampshire','Massachusetts'],\n",
    "\n",
    "'Springfield': ['Massachusetts', 'Illinois'] }\n",
    "\n",
    "Function Name : city_with_states Input : dict Output : dict\"\"\"\n",
    "\n",
    "states = {'New Hampshire': ['Concord', 'Hanover'],'Massachusetts': ['Boston', 'Concord', 'Springfield'],'Illinois': ['Chicago', 'Springfield', 'Peoria'] }\n",
    "def city_with_states(states):\n",
    "    ls=[]\n",
    "    for i in states:\n",
    "        for k in states[i]:\n",
    "            ls.append(k)\n",
    "\n",
    "    dct={}\n",
    "    for name,city in states.items():\n",
    "        for p in city:\n",
    "            dct[p]=name\n",
    "    return dct\n",
    "city_with_states(states)"
   ]
  },
  {
   "cell_type": "code",
   "execution_count": 4,
   "metadata": {},
   "outputs": [
    {
     "data": {
      "text/plain": [
       "'Unbalanced parentheses'"
      ]
     },
     "execution_count": 4,
     "metadata": {},
     "output_type": "execute_result"
    }
   ],
   "source": [
    "\"\"\"4.How do you check if a given String contains valid parentheses? Given a string containing just the \n",
    "characters '(', ')', '{', '}', '[' and ']', write a program in python to check if the input string is valid. \n",
    "The brackets must close in the correct order, \"()\" and \"()[]{}\" are all valid but \"(]\" and \"([)]\" are not.\"\"\"\n",
    "\n",
    "def areValid_parentheses(String): \n",
    "    stack = [] \n",
    "    for i in String: \n",
    "        if i in open_parentheses: \n",
    "            stack.append(i) \n",
    "        elif i in close_parentheses: \n",
    "            out = close_parentheses.index(i) \n",
    "            if ((len(stack) > 0) and\n",
    "                (open_parentheses[out] == stack[len(stack)-1])): \n",
    "                stack.pop() \n",
    "            else: \n",
    "                return \"Unbalanced parentheses\"\n",
    "    if len(stack) == 0: \n",
    "        return \"Balanced parentheses\"\n",
    "open_parentheses = [\"[\",\"{\",\"(\"] \n",
    "close_parentheses = [\"]\",\"}\",\")\"]\n",
    "String= \"([)]\"\n",
    "areValid_parentheses(String)"
   ]
  },
  {
   "cell_type": "code",
   "execution_count": 13,
   "metadata": {},
   "outputs": [
    {
     "name": "stdout",
     "output_type": "stream",
     "text": [
      "2000\n",
      "MM"
     ]
    }
   ],
   "source": [
    "\"\"\"5.Write a program to convert Integer to Roman String. For example, if a given integer is 5 then your program should print \"V\".\n",
    "\n",
    "Function Name : int_roman Input : int Output : str\"\"\"\n",
    "def int_roman(number): \n",
    "    number_system = [1, 4, 5, 9, 10, 40, 50, 90, 100, 400, 500, 900, 1000] \n",
    "    roman_system = [\"I\", \"IV\", \"V\", \"IX\", \"X\", \"XL\",\"L\", \"XC\", \"C\", \"CD\", \"D\", \"CM\", \"M\"] \n",
    "    i = 12\n",
    "    while number: \n",
    "        div = number // number_system[i] \n",
    "        number %= number_system[i] \n",
    "  \n",
    "        while div: \n",
    "            print(roman_system[i], end = \"\") \n",
    "            div -= 1\n",
    "        i -= 1\n",
    "\n",
    "        \n",
    "int_roman(int(input()))"
   ]
  },
  {
   "cell_type": "code",
   "execution_count": 3,
   "metadata": {},
   "outputs": [
    {
     "name": "stdout",
     "output_type": "stream",
     "text": [
      "10\n"
     ]
    }
   ],
   "source": [
    "\"\"\"6.Write a program utility that counts the number of lines of actual python code in a. For the purpose of this exercise, a line is counted if it contains something other than whitespace or text in a comment.\n",
    "\n",
    "remember that comment start sequences that appear inside python strings should be ignored.\n",
    "\n",
    "Function Name : count_code_lines Input : str Output : int\"\"\"\n",
    "\n",
    "input_code = \"\"\"\n",
    "#Linear search implementation\n",
    "#Takes list and a key as input and returns True or False as answer\n",
    "def linear_saerch(l,key):\n",
    "    for value in l:\n",
    "        if key == value:\n",
    "            return True #Return True is key exist\n",
    "    else:\n",
    "        return False #Return False if key does not exist\n",
    "\n",
    "l = [100,200,300,400,500,600]\n",
    "key = 582\n",
    "result = linear_search(l,key)\n",
    "print(result)\n",
    "\"\"\"\n",
    "\n",
    "def count_code_lines(input_code):\n",
    "    count = 1\n",
    "    lines = input_code.split(\"\\n\")\n",
    "    length = len(lines)\n",
    "    for i in lines:\n",
    "        for j in i:\n",
    "            if j[0] == \"#\" and \"\\n\\n\":\n",
    "                count = count + 1\n",
    "    print(length-count)\n",
    "\n",
    "count_code_lines(input_code)"
   ]
  },
  {
   "cell_type": "code",
   "execution_count": 16,
   "metadata": {},
   "outputs": [
    {
     "name": "stdout",
     "output_type": "stream",
     "text": [
      "enter password:  abcd@123\n",
      "weak The password must contain at least 1 capital character\n"
     ]
    }
   ],
   "source": [
    "\"\"\"7.Write a program to check the strength of a supplied password\n",
    "\n",
    "The length of the password must be at least 8 characters in length The password must contain at least 1 capital letter\n",
    "The password must contain at least 1 digit\n",
    "The password must contain at least 1 special character and allowed special characters are (!,@,#,$,&)\n",
    "\n",
    "We need to provide feedback to the user about the strength of their password\n",
    "\n",
    "Provide the user with a list of reasons why their password is 'weak'\n",
    "Function Name : check_password_strength Input : str Output : tuple (str,list) eg (\"Weak\",[\"The password must contain at least 1 capital letter\"])\"\"\"\n",
    "\n",
    "import re\n",
    "password=input(\"enter password:  \")\n",
    "\n",
    "def check_password_strength(password):\n",
    "    flag = 0\n",
    "\n",
    "    while True:\n",
    "        if (len(password) < 8):\n",
    "            print(\"weak\",\"The password must contain 8 charactres\")\n",
    "            break\n",
    "        elif not re.search(\"[a-z]\", password):\n",
    "            print(\"weak\", \"The password must contain at least 1 small character\")\n",
    "            break\n",
    "        elif not re.search(\"[A-Z]\", password):\n",
    "            print(\"weak\", \"The password must contain at least 1 capital character\")\n",
    "            break\n",
    "        elif not re.search(\"[0-9]\", password):\n",
    "            print(\"weak\", \"The password must contain at least 1 number\")\n",
    "            break\n",
    "        elif not re.search(\"[@$#&!]\", password):\n",
    "            print(\"weak\", \"The password must contain at least 1 special character from !@#$%_\")\n",
    "            break\n",
    "\n",
    "        else:\n",
    "            flag = 0\n",
    "            print(\"Strong Password\")\n",
    "            break\n",
    "\n",
    "check_password_strength(password)\n"
   ]
  },
  {
   "cell_type": "code",
   "execution_count": 1,
   "metadata": {},
   "outputs": [
    {
     "name": "stdout",
     "output_type": "stream",
     "text": [
      "enter sentence:  hello byr\n",
      "Wrong, The Sentence must contain upper case letter at beginnig\n"
     ]
    }
   ],
   "source": [
    "\"\"\"8. Check if given sentence is syntactically correct or not\n",
    "\n",
    "A simple sentence if syntactically correct if it fulfills given rules. The following are given rules.\n",
    "\n",
    "    Sentence must start with a Uppercase character (e.g. Noun/ I/ We/ He etc.)\n",
    "    There must be spaces between words.\n",
    "    Then the sentence must end with a full stop(.).\n",
    "    Two continuous spaces are not allowed.\n",
    "    Two continuous uppercase characters are not allowed.\n",
    "    However the sentence can end after an uppercase character.\n",
    "\n",
    "Function Name : check_sentence Input : str Output : tuple (True/False,list) eg (False,[\"There must be spaces between words.\"])\"\"\"\n",
    "string = input(\"enter sentence:  \")\n",
    "\n",
    "def check_sentence(string):\n",
    "\n",
    "    while (len(string) > 0):\n",
    "        q = string[0].isupper()\n",
    "        if q is False:\n",
    "            print(\"Wrong, The Sentence must contain upper case letter at beginnig\")\n",
    "            break\n",
    "\n",
    "        elif \" \" not in string:\n",
    "            print(\"Wrong, The Sentence must contain Spaces between words\")\n",
    "            break\n",
    "\n",
    "        elif string[len(string)-1] != \".\":\n",
    "            print(\"Wrong, Sentence must contain Full stop at the end\")\n",
    "            break\n",
    "\n",
    "        elif \"  \" in string:\n",
    "            print(\"Wrong, continuous double spaces are not allowed\")\n",
    "            break\n",
    "        i = 0\n",
    "        j = 1\n",
    "        if string[i].isupper() == string[j].isupper():\n",
    "            print(\"Wrong ,\" + \"Two continuous upper letter are not allowed\")\n",
    "            i += 1\n",
    "            j += 1\n",
    "            break\n",
    "        else:\n",
    "            print(\"correct Sentense\")\n",
    "            break\n",
    "\n",
    "check_sentence(string)\n",
    "\n"
   ]
  },
  {
   "cell_type": "code",
   "execution_count": 20,
   "metadata": {},
   "outputs": [
    {
     "data": {
      "text/plain": [
       "[4, 3, 2, 5]"
      ]
     },
     "execution_count": 20,
     "metadata": {},
     "output_type": "execute_result"
    }
   ],
   "source": [
    "\"\"\"9.Given an array arr[] of integers and an integer K, the task is to find the greatest contiguous sub-array of size K.\n",
    "\n",
    "Sub-array X is said to be greater than sub-array Y if the first non-matching element in both the sub-arrays has a greater value in X than in Y.\n",
    "\n",
    "For example : Input: arr[] = {1, 4, 3, 2, 5}, K = 4 Output: 4 3 2 5 Two subarrays are {1, 4, 3, 2} and {4, 3, 2, 5}. First non-matching element\n",
    "from array1 and array 2 : 1 and 4 as 4 is greater Hence, the greater one is {4, 3, 2, 5}\n",
    "\n",
    "Function Name : greatest_sub_array() Input : list Output : list\"\"\"\n",
    "def findSubarray(arr, k, n): \n",
    "    res=[] \n",
    "    for i in range(n-k+1): \n",
    "        temp=[] \n",
    "        for j in range(i,i+k): \n",
    "            temp.append(arr[j])\n",
    "        res.append(temp) \n",
    "    res=sorted(res)  \n",
    "    return res[len(res) - 1] \n",
    "\n",
    "arr =[ 1, 4, 3, 2, 5 ] \n",
    "k = 4\n",
    "n = len(a) \n",
    "\n",
    "findSubarray(arr, k, n)\n"
   ]
  },
  {
   "cell_type": "code",
   "execution_count": 18,
   "metadata": {},
   "outputs": [
    {
     "data": {
      "text/plain": [
       "(1, 3, 5, 5, 7)"
      ]
     },
     "execution_count": 18,
     "metadata": {},
     "output_type": "execute_result"
    }
   ],
   "source": [
    "\"\"\"10.Given a list of N integers. The task is to eliminate the minimum number of elements such that in the \n",
    "resulting list the sum of any two adjacent values is even.\n",
    "\n",
    "Numbers = [1, 3, 5, 4, 2] Output = [1, 3, 5] Total elements removed 2 Elements to be removed [4,2]\n",
    "\n",
    "Function Name : adj_sum_even() Input : list Output : tuple(int,list)\"\"\"\n",
    "\n",
    "def adj_sum_even(Numbers):\n",
    "    Even_adj = []\n",
    "    for value in Numbers:\n",
    "        if value % 2 != 0:\n",
    "            Even_adj.append(value)\n",
    "    return tuple(Even_adj)\n",
    "            \n",
    "   \n",
    "\n",
    "Numbers =  [1, 3, 5, 4, 2,5,6,7,8]\n",
    "adj_sum_even(Numbers)\n"
   ]
  },
  {
   "cell_type": "code",
   "execution_count": null,
   "metadata": {},
   "outputs": [],
   "source": []
  }
 ],
 "metadata": {
  "kernelspec": {
   "display_name": "Python 3",
   "language": "python",
   "name": "python3"
  },
  "language_info": {
   "codemirror_mode": {
    "name": "ipython",
    "version": 3
   },
   "file_extension": ".py",
   "mimetype": "text/x-python",
   "name": "python",
   "nbconvert_exporter": "python",
   "pygments_lexer": "ipython3",
   "version": "3.7.4"
  }
 },
 "nbformat": 4,
 "nbformat_minor": 2
}
