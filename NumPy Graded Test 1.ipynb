{
 "cells": [
  {
   "cell_type": "markdown",
   "metadata": {},
   "source": [
    "# 1. Count The Number Of Times Each Value Appears In An Array Of Integers"
   ]
  },
  {
   "cell_type": "code",
   "execution_count": 7,
   "metadata": {},
   "outputs": [
    {
     "name": "stdout",
     "output_type": "stream",
     "text": [
      "[4 2 4 4 3 2 8 7 9 6 4 8 9 4 3 6 5 5 1 9]\n",
      "[0 1 2 2 5 2 2 1 2 3]\n"
     ]
    }
   ],
   "source": [
    "import numpy as np\n",
    "arr = np.random.randint(1,10,20)\n",
    "print(arr)\n",
    "print(np.bincount(arr))"
   ]
  },
  {
   "cell_type": "markdown",
   "metadata": {},
   "source": [
    "# 2. Given 9 Integers. You have to convert them into 3*3 Numpy array using Reshape function."
   ]
  },
  {
   "cell_type": "code",
   "execution_count": 2,
   "metadata": {},
   "outputs": [
    {
     "data": {
      "text/plain": [
       "array([[5, 1, 6],\n",
       "       [9, 8, 6],\n",
       "       [2, 7, 9]])"
      ]
     },
     "execution_count": 2,
     "metadata": {},
     "output_type": "execute_result"
    }
   ],
   "source": [
    "arr = np.random.randint(1,10,9)\n",
    "arr.reshape(3,3)"
   ]
  },
  {
   "cell_type": "markdown",
   "metadata": {},
   "source": [
    "# 3. How to find the memory size of any array"
   ]
  },
  {
   "cell_type": "code",
   "execution_count": 4,
   "metadata": {},
   "outputs": [
    {
     "name": "stdout",
     "output_type": "stream",
     "text": [
      "36 bytes\n"
     ]
    }
   ],
   "source": [
    "print(arr.size*arr.itemsize,\"bytes\")"
   ]
  },
  {
   "cell_type": "markdown",
   "metadata": {},
   "source": [
    "# 4. Create a 2d array of size 10 by 10 with 1 on the border and 0 inside."
   ]
  },
  {
   "cell_type": "code",
   "execution_count": 5,
   "metadata": {},
   "outputs": [
    {
     "name": "stdout",
     "output_type": "stream",
     "text": [
      "[[1. 1. 1. 1. 1. 1. 1. 1. 1. 1.]\n",
      " [1. 0. 0. 0. 0. 0. 0. 0. 0. 1.]\n",
      " [1. 0. 0. 0. 0. 0. 0. 0. 0. 1.]\n",
      " [1. 0. 0. 0. 0. 0. 0. 0. 0. 1.]\n",
      " [1. 0. 0. 0. 0. 0. 0. 0. 0. 1.]\n",
      " [1. 0. 0. 0. 0. 0. 0. 0. 0. 1.]\n",
      " [1. 0. 0. 0. 0. 0. 0. 0. 0. 1.]\n",
      " [1. 0. 0. 0. 0. 0. 0. 0. 0. 1.]\n",
      " [1. 0. 0. 0. 0. 0. 0. 0. 0. 1.]\n",
      " [1. 1. 1. 1. 1. 1. 1. 1. 1. 1.]]\n"
     ]
    }
   ],
   "source": [
    "arr = np.ones((10,10))\n",
    "arr[1:-1,1:-1] = 0\n",
    "print(arr)"
   ]
  },
  {
   "cell_type": "markdown",
   "metadata": {},
   "source": [
    "# 5.Create a 8x8 matrix and fill it with a checkerboard pattern."
   ]
  },
  {
   "cell_type": "code",
   "execution_count": 6,
   "metadata": {},
   "outputs": [
    {
     "name": "stdout",
     "output_type": "stream",
     "text": [
      "[[1. 0. 1. 0. 1. 0. 1. 0.]\n",
      " [0. 1. 0. 1. 0. 1. 0. 1.]\n",
      " [1. 0. 1. 0. 1. 0. 1. 0.]\n",
      " [0. 1. 0. 1. 0. 1. 0. 1.]\n",
      " [1. 0. 1. 0. 1. 0. 1. 0.]\n",
      " [0. 1. 0. 1. 0. 1. 0. 1.]\n",
      " [1. 0. 1. 0. 1. 0. 1. 0.]\n",
      " [0. 1. 0. 1. 0. 1. 0. 1.]]\n"
     ]
    }
   ],
   "source": [
    "checB = np.ones((8,8))\n",
    "checB[1::2,::2] = 0\n",
    "checB[::2,1::2] = 0\n",
    "print(checB)"
   ]
  },
  {
   "cell_type": "markdown",
   "metadata": {},
   "source": [
    "# 6. Normalize a 5x5 random matrix."
   ]
  },
  {
   "cell_type": "code",
   "execution_count": 7,
   "metadata": {},
   "outputs": [
    {
     "data": {
      "text/plain": [
       "array([[-0.76065165, -0.26885101, -0.43278456, -1.33441906,  1.94425184],\n",
       "       [ 0.22294962, -0.67868488,  0.96065057, -0.10491747,  0.96065057],\n",
       "       [-0.51475133,  0.55081671, -1.25245228,  0.79671703,  1.20655089],\n",
       "       [-1.08851874, -1.08851874,  2.43605248,  1.20655089, -0.67868488],\n",
       "       [-0.76065165, -0.76065165, -0.35081779, -0.5967181 ,  0.38688317]])"
      ]
     },
     "execution_count": 7,
     "metadata": {},
     "output_type": "execute_result"
    }
   ],
   "source": [
    "mat = np.random.randint(1,50,(5,5))\n",
    "(mat-np.mean(mat))/np.std(mat)"
   ]
  },
  {
   "cell_type": "markdown",
   "metadata": {},
   "source": [
    "# 7. Given a 1D array in range(0,11), negate all elements which are between 3 and 8, in place."
   ]
  },
  {
   "cell_type": "code",
   "execution_count": 9,
   "metadata": {},
   "outputs": [
    {
     "name": "stdout",
     "output_type": "stream",
     "text": [
      "[ 0  1  2  3 -4 -5 -6 -7  8  9 10 11]\n"
     ]
    }
   ],
   "source": [
    "arr = np.array([0,1,2,3,4,5,6,7,8,9,10,11])\n",
    "for i in range(len(arr)):\n",
    "    if 3<arr[i]<8:\n",
    "        arr[i] = -arr[i]\n",
    "\n",
    "        \n",
    "print(arr)"
   ]
  },
  {
   "cell_type": "markdown",
   "metadata": {},
   "source": [
    "# 8. How to get the dates of yesterday, today and tomorrow?"
   ]
  },
  {
   "cell_type": "code",
   "execution_count": 10,
   "metadata": {},
   "outputs": [
    {
     "name": "stdout",
     "output_type": "stream",
     "text": [
      "Yesterday:  2020-02-23\n",
      "Today:  2020-02-24\n",
      "Tomorrow:  2020-02-25\n"
     ]
    }
   ],
   "source": [
    "print(\"Yesterday: \",np.datetime64('today','D')-np.timedelta64(1,'D'))\n",
    "print(\"Today: \",np.datetime64('today','D'))\n",
    "print(\"Tomorrow: \",np.datetime64('today','D')+np.timedelta64(1,'D'))"
   ]
  },
  {
   "cell_type": "markdown",
   "metadata": {},
   "source": [
    "# 9. Generate two arrays of size 2X4 & 3X3, find difference between them."
   ]
  },
  {
   "cell_type": "code",
   "execution_count": 11,
   "metadata": {},
   "outputs": [
    {
     "data": {
      "text/plain": [
       "array([[[[ 2,  0,  0,  0],\n",
       "         [ 2,  0,  0,  0],\n",
       "         [-3, -5, -5, -5]],\n",
       "\n",
       "        [[-4,  1,  2,  0],\n",
       "         [-4,  1,  2,  0],\n",
       "         [-9, -4, -3, -5]]],\n",
       "\n",
       "\n",
       "       [[[ 5,  3,  3,  3],\n",
       "         [ 7,  5,  5,  5],\n",
       "         [ 5,  3,  3,  3]],\n",
       "\n",
       "        [[-1,  4,  5,  3],\n",
       "         [ 1,  6,  7,  5],\n",
       "         [-1,  4,  5,  3]]],\n",
       "\n",
       "\n",
       "       [[[ 7,  5,  5,  5],\n",
       "         [ 3,  1,  1,  1],\n",
       "         [-2, -4, -4, -4]],\n",
       "\n",
       "        [[ 1,  6,  7,  5],\n",
       "         [-3,  2,  3,  1],\n",
       "         [-8, -3, -2, -4]]]])"
      ]
     },
     "execution_count": 11,
     "metadata": {},
     "output_type": "execute_result"
    }
   ],
   "source": [
    "array1 = np.random.randint(1,10,(2,4))\n",
    "array2 = np.random.randint(1,15,(3,3))\n",
    "array1.reshape(1,2,1,4) - array2.reshape(3,1,3,1)"
   ]
  },
  {
   "cell_type": "markdown",
   "metadata": {},
   "source": [
    "# 10. Given 1d array of ['cat','dog','rat'], genrate 100 elements of 1d array consisting of the above 3 value ?\n",
    "\n",
    "['cat','cat',...,'rat','dog','dog','cat'...]\n"
   ]
  },
  {
   "cell_type": "code",
   "execution_count": 12,
   "metadata": {},
   "outputs": [
    {
     "data": {
      "text/plain": [
       "array(['cat', 'dog', 'cat', 'cat', 'rat', 'cat', 'cat', 'rat', 'cat',\n",
       "       'rat', 'dog', 'dog', 'cat', 'cat', 'dog', 'cat', 'rat', 'rat',\n",
       "       'cat', 'cat', 'rat', 'rat', 'cat', 'rat', 'cat', 'rat', 'dog',\n",
       "       'cat', 'rat', 'dog', 'cat', 'rat', 'dog', 'rat', 'cat', 'dog',\n",
       "       'rat', 'rat', 'dog', 'rat', 'rat', 'rat', 'cat', 'dog', 'cat',\n",
       "       'dog', 'dog', 'rat', 'rat', 'rat', 'cat', 'cat', 'cat', 'cat',\n",
       "       'rat', 'rat', 'rat', 'dog', 'rat', 'dog', 'rat', 'dog', 'cat',\n",
       "       'dog', 'rat', 'rat', 'dog', 'dog', 'rat', 'cat', 'cat', 'cat',\n",
       "       'rat', 'rat', 'dog', 'rat', 'dog', 'dog', 'rat', 'dog', 'rat',\n",
       "       'cat', 'rat', 'cat', 'rat', 'cat', 'cat', 'cat', 'dog', 'dog',\n",
       "       'rat', 'cat', 'dog', 'dog', 'cat', 'rat', 'rat', 'rat', 'dog',\n",
       "       'rat'], dtype='<U3')"
      ]
     },
     "execution_count": 12,
     "metadata": {},
     "output_type": "execute_result"
    }
   ],
   "source": [
    "arr = ['cat','dog','rat']\n",
    "np.random.choice(array,100)"
   ]
  },
  {
   "cell_type": "markdown",
   "metadata": {},
   "source": [
    "# 11. Create a vector of size 10 with values ranging from 0 to 1, both excluded without manually deducing the values"
   ]
  },
  {
   "cell_type": "code",
   "execution_count": 13,
   "metadata": {},
   "outputs": [
    {
     "name": "stdout",
     "output_type": "stream",
     "text": [
      "[0.09090909 0.18181818 0.27272727 0.36363636 0.45454545 0.54545455\n",
      " 0.63636364 0.72727273 0.81818182 0.90909091]\n"
     ]
    }
   ],
   "source": [
    "vect = np.linspace(0,1,12)[1:-1]\n",
    "print(vect)"
   ]
  },
  {
   "cell_type": "markdown",
   "metadata": {},
   "source": [
    "# 12. Given a two dimensional array, how to extract unique rows?"
   ]
  },
  {
   "cell_type": "code",
   "execution_count": 15,
   "metadata": {},
   "outputs": [
    {
     "name": "stdout",
     "output_type": "stream",
     "text": [
      "[[ 0 19 17  7 32]\n",
      " [ 6 28 35  5 10]\n",
      " [14 25 40 44 24]\n",
      " [ 5 29 46 40 28]\n",
      " [36 11 26 15 10]]\n",
      "\n",
      "\n",
      "[[ 6 28 35  5 10]]\n"
     ]
    }
   ],
   "source": [
    "arr = np.random.randint(0,50,(5,5))\n",
    "print(arr)\n",
    "print(\"\\n\")\n",
    "print(arr[[1]])"
   ]
  },
  {
   "cell_type": "markdown",
   "metadata": {},
   "source": [
    "# 13. Create a structured array with x and y coordinates covering the [0,1]x[0,1] area."
   ]
  },
  {
   "cell_type": "code",
   "execution_count": 23,
   "metadata": {},
   "outputs": [
    {
     "name": "stdout",
     "output_type": "stream",
     "text": [
      "[[(0. , 0. ) (0.5, 0. ) (1. , 0. )]\n",
      " [(0. , 0.5) (0.5, 0.5) (1. , 0.5)]\n",
      " [(0. , 1. ) (0.5, 1. ) (1. , 1. )]]\n"
     ]
    }
   ],
   "source": [
    "arr = np.zeros((3,3), [('x',float),('y',float)])\n",
    "arr['x'], arr['y'] = np.meshgrid(np.linspace(0,1,3),np.linspace(0,1,3))\n",
    "print(arr)"
   ]
  },
  {
   "cell_type": "markdown",
   "metadata": {},
   "source": [
    "# 14. How to find the closest value (to a given scalar) in a vector?"
   ]
  },
  {
   "cell_type": "code",
   "execution_count": 16,
   "metadata": {},
   "outputs": [
    {
     "name": "stdout",
     "output_type": "stream",
     "text": [
      "[ 0  1  2  3  4  5  6  7  8  9 10 11 12 13 14 15 16 17 18 19 20 21 22 23\n",
      " 24 25 26 27 28 29 30 31 32 33 34 35 36 37 38 39 40 41 42 43 44 45 46 47\n",
      " 48 49 50 51 52 53 54 55 56 57 58 59 60 61 62 63 64 65 66 67 68 69 70 71\n",
      " 72 73 74 75 76 77 78 79 80 81 82 83 84 85 86 87 88 89 90 91 92 93 94 95\n",
      " 96 97 98 99]\n",
      "84.9833105322328\n",
      "85\n"
     ]
    }
   ],
   "source": [
    "vect = np.arange(100)\n",
    "scalar = np.random.uniform(0,100)\n",
    "print(vect)\n",
    "print(scalar)\n",
    "index = (np.abs(vect-scalar)).argmin()\n",
    "print(index)"
   ]
  },
  {
   "cell_type": "markdown",
   "metadata": {},
   "source": [
    "# 15. Consider a random vector with shape (10,2) representing coordinates, find point by point distances. Use euclidian distance."
   ]
  },
  {
   "cell_type": "code",
   "execution_count": 17,
   "metadata": {},
   "outputs": [
    {
     "name": "stdout",
     "output_type": "stream",
     "text": [
      "[ 3  2  3  4  0 -9  2 -3 -1  2]\n"
     ]
    }
   ],
   "source": [
    "random_vect = np.random.randint(0,10,(10,2))\n",
    "x = random_vect[:,0]\n",
    "y= random_vect[:,1]\n",
    "print(x-y)"
   ]
  },
  {
   "cell_type": "markdown",
   "metadata": {},
   "source": [
    "# 16. How to sort an array by the nth column?"
   ]
  },
  {
   "cell_type": "code",
   "execution_count": 19,
   "metadata": {},
   "outputs": [
    {
     "name": "stdout",
     "output_type": "stream",
     "text": [
      "[[37 15 81 70  9]\n",
      " [69 67 49 26 67]\n",
      " [20 86 98 96 17]\n",
      " [86  1 60 71 18]\n",
      " [85 54 69 10  7]]\n",
      "\n",
      "\n",
      "[[85 54 69 10  7]\n",
      " [37 15 81 70  9]\n",
      " [20 86 98 96 17]\n",
      " [86  1 60 71 18]\n",
      " [69 67 49 26 67]]\n"
     ]
    }
   ],
   "source": [
    "arr = np.random.randint(0,100,(5,5))\n",
    "print(arr)\n",
    "print(\"\\n\")\n",
    "print(arr[arr[:,4].argsort()])"
   ]
  },
  {
   "cell_type": "markdown",
   "metadata": {},
   "source": [
    "# 17.How to tell if a given 2D array has null columns?"
   ]
  },
  {
   "cell_type": "code",
   "execution_count": 20,
   "metadata": {},
   "outputs": [
    {
     "data": {
      "text/plain": [
       "array([[False, False, False, False, False],\n",
       "       [False, False, False, False, False],\n",
       "       [False, False, False, False, False],\n",
       "       [False, False, False, False, False],\n",
       "       [False, False, False, False, False]])"
      ]
     },
     "execution_count": 20,
     "metadata": {},
     "output_type": "execute_result"
    }
   ],
   "source": [
    "arr = np.random.randint(1,10,(5,5))\n",
    "np.isnan(arr)"
   ]
  },
  {
   "cell_type": "markdown",
   "metadata": {},
   "source": [
    "# 18. Considering a two dimensions array, how to get sum over the last two columns at once?\n"
   ]
  },
  {
   "cell_type": "code",
   "execution_count": 21,
   "metadata": {},
   "outputs": [
    {
     "name": "stdout",
     "output_type": "stream",
     "text": [
      "[[8 1 6 3 3]\n",
      " [1 5 7 8 5]\n",
      " [9 9 7 6 2]\n",
      " [8 3 2 8 4]\n",
      " [5 1 6 4 5]]\n",
      "48\n"
     ]
    }
   ],
   "source": [
    "arr = np.random.randint(1,10,(5,5))\n",
    "print(arr)\n",
    "print(np.sum(arr[:,-2:]))"
   ]
  },
  {
   "cell_type": "markdown",
   "metadata": {},
   "source": [
    "# 19. Given a 2d array of 5X5, increment 1st column by 1, second column by 2, 3rd column by 3 & so on till the last column"
   ]
  },
  {
   "cell_type": "code",
   "execution_count": 9,
   "metadata": {},
   "outputs": [
    {
     "name": "stdout",
     "output_type": "stream",
     "text": [
      "[[7 5 9 7 4]\n",
      " [8 8 8 9 6]\n",
      " [8 3 6 4 9]\n",
      " [6 2 7 3 4]\n",
      " [4 3 8 4 7]]\n",
      "[[ 8  7 12 11  9]\n",
      " [ 9 10 11 13 11]\n",
      " [ 9  5  9  8 14]\n",
      " [ 7  4 10  7  9]\n",
      " [ 5  5 11  8 12]]\n"
     ]
    }
   ],
   "source": [
    "arr = np.random.randint(1,10,(5,5))\n",
    "print(arr)\n",
    "for i in range(len(arr)):\n",
    "    arr[:,i] += i+1\n",
    "print(arr)"
   ]
  },
  {
   "cell_type": "markdown",
   "metadata": {},
   "source": [
    "# 20. Given a 1d array(size 100) of boolean values, identify total number of True in it.¶"
   ]
  },
  {
   "cell_type": "code",
   "execution_count": 11,
   "metadata": {},
   "outputs": [
    {
     "data": {
      "text/plain": [
       "56"
      ]
     },
     "execution_count": 11,
     "metadata": {},
     "output_type": "execute_result"
    }
   ],
   "source": [
    "arr = np.random.choice([True,False],100)\n",
    "np.count_nonzero(arr)"
   ]
  },
  {
   "cell_type": "markdown",
   "metadata": {},
   "source": [
    "# 21. Consider the vector [1, 2, 3, 4, 5], how to build a new vector with 3 consecutive zeros interleaved between each value?¶"
   ]
  },
  {
   "cell_type": "code",
   "execution_count": 12,
   "metadata": {},
   "outputs": [
    {
     "name": "stdout",
     "output_type": "stream",
     "text": [
      "[0. 0. 0. 0. 0. 0. 0. 0. 0. 0. 0. 0. 0. 0. 0. 0. 0.]\n",
      "[1. 0. 0. 0. 2. 0. 0. 0. 3. 0. 0. 0. 4. 0. 0. 0. 5.]\n"
     ]
    }
   ],
   "source": [
    "vect = np.array([1, 2, 3, 4, 5])\n",
    "n = 3\n",
    "new_vect = np.zeros(len(vect)+(len(vect)-1)*n)\n",
    "print(new_vect)\n",
    "new_vect[::n+1]=vect\n",
    "print(new_vect)"
   ]
  },
  {
   "cell_type": "markdown",
   "metadata": {},
   "source": [
    "# 22. How to swap two rows of an array?"
   ]
  },
  {
   "cell_type": "code",
   "execution_count": 17,
   "metadata": {},
   "outputs": [
    {
     "name": "stdout",
     "output_type": "stream",
     "text": [
      "[[1 3 4 1 6 2 4 9 5 5]\n",
      " [5 5 2 9 5 3 9 1 2 8]\n",
      " [5 6 6 2 3 2 1 7 7 4]\n",
      " [8 3 5 5 7 4 3 4 6 6]\n",
      " [4 3 2 7 7 8 4 7 1 1]\n",
      " [5 1 5 3 4 1 3 8 9 3]\n",
      " [6 8 9 9 2 1 7 5 3 4]\n",
      " [6 4 7 9 2 9 8 8 2 2]\n",
      " [5 5 7 6 6 3 8 7 9 6]\n",
      " [9 3 4 8 2 9 9 6 8 3]]\n",
      "\n",
      "\n",
      "[[1 3 4 1 6 2 4 9 5 5]\n",
      " [5 1 5 3 4 1 3 8 9 3]\n",
      " [5 6 6 2 3 2 1 7 7 4]\n",
      " [8 3 5 5 7 4 3 4 6 6]\n",
      " [4 3 2 7 7 8 4 7 1 1]\n",
      " [5 5 2 9 5 3 9 1 2 8]\n",
      " [6 8 9 9 2 1 7 5 3 4]\n",
      " [6 4 7 9 2 9 8 8 2 2]\n",
      " [5 5 7 6 6 3 8 7 9 6]\n",
      " [9 3 4 8 2 9 9 6 8 3]]\n"
     ]
    }
   ],
   "source": [
    "arr = np.random.randint(1,10,(10,10))\n",
    "print(arr)\n",
    "print(\"\\n\")\n",
    "arr[[1,5]] = arr[[5,1]]\n",
    "print(arr)"
   ]
  },
  {
   "cell_type": "markdown",
   "metadata": {},
   "source": [
    "# 24. How to get n largest value of an array?"
   ]
  },
  {
   "cell_type": "code",
   "execution_count": 19,
   "metadata": {},
   "outputs": [
    {
     "name": "stdout",
     "output_type": "stream",
     "text": [
      "[ 6  5  2 17 19 18  6 12  8  4  5  4 12 15  4  1  8  2 15 13]\n",
      "[15 15 17 18 19]\n"
     ]
    }
   ],
   "source": [
    "n = 5\n",
    "arr = np.random.randint(1,20,20)\n",
    "print(arr)\n",
    "arr.sort()\n",
    "print(arr[-n:])"
   ]
  },
  {
   "cell_type": "markdown",
   "metadata": {},
   "source": [
    "# 25. Given two random arrays of shape 5X5, identify the common elements between them."
   ]
  },
  {
   "cell_type": "code",
   "execution_count": 21,
   "metadata": {},
   "outputs": [
    {
     "name": "stdout",
     "output_type": "stream",
     "text": [
      "[[19  1  6  3  5]\n",
      " [13  1  5 12  8]\n",
      " [ 4 13 18 15  7]\n",
      " [14 13  1  6  1]\n",
      " [11  9 18 19  8]]\n",
      "\n",
      "\n",
      "[[20 21 21 17  1]\n",
      " [12 24  3  9  4]\n",
      " [ 5  8 19 24  4]\n",
      " [15 15  4  9 11]\n",
      " [13 13  1 24  9]]\n",
      "\n",
      "\n",
      "[ 1  3  4  5  8  9 11 12 13 15 19]\n"
     ]
    }
   ],
   "source": [
    "arr1 = np.random.randint(1,20,(5,5))\n",
    "arr2 = np.random.randint(1,25,(5,5))\n",
    "print(arr1)\n",
    "print(\"\\n\")\n",
    "print(arr2)\n",
    "print(\"\\n\")\n",
    "print(np.intersect1d(arr1,arr2))"
   ]
  },
  {
   "cell_type": "markdown",
   "metadata": {},
   "source": [
    "# 26. How to get index of top two highest value in a 1d array?"
   ]
  },
  {
   "cell_type": "code",
   "execution_count": 22,
   "metadata": {},
   "outputs": [
    {
     "name": "stdout",
     "output_type": "stream",
     "text": [
      "[4 9 9 8 7 3 3 3 8 4 6 5]\n"
     ]
    },
    {
     "data": {
      "text/plain": [
       "array([1, 2], dtype=int64)"
      ]
     },
     "execution_count": 22,
     "metadata": {},
     "output_type": "execute_result"
    }
   ],
   "source": [
    "arr = np.random.randint(1,10,12)\n",
    "print(arr)\n",
    "arr.argsort()[-2:]"
   ]
  },
  {
   "cell_type": "code",
   "execution_count": null,
   "metadata": {},
   "outputs": [],
   "source": []
  }
 ],
 "metadata": {
  "kernelspec": {
   "display_name": "Python 3",
   "language": "python",
   "name": "python3"
  },
  "language_info": {
   "codemirror_mode": {
    "name": "ipython",
    "version": 3
   },
   "file_extension": ".py",
   "mimetype": "text/x-python",
   "name": "python",
   "nbconvert_exporter": "python",
   "pygments_lexer": "ipython3",
   "version": "3.7.4"
  }
 },
 "nbformat": 4,
 "nbformat_minor": 2
}
